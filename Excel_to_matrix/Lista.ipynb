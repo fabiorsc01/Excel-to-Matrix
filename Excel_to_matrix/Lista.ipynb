{
 "cells": [
  {
   "cell_type": "code",
   "execution_count": 38,
   "metadata": {},
   "outputs": [],
   "source": [
    "import pandas as pd\n",
    "import xlsxwriter\n",
    "\n",
    "\n",
    "outWorkbook = xlsxwriter.Workbook(\"times4.xlsx\")\n",
    "outSheet = outWorkbook.add_worksheet()\n",
    "\n",
    "\n",
    "#ler os dados colocar os dados em uma lista\n",
    "dados = pd.read_excel(\"times.xlsx\")\n",
    "dados.dropna(inplace= True)\n",
    "pessoas = dados['Pessoas'].str.split(\"\\n\", expand = False)\n",
    "times = dados['Times'].str.split(\"\\n\", expand = False)\n",
    "\n",
    "\n",
    "outSheet.write('A1', 'Dados')\n",
    "for item in range(len(pessoas[0])):\n",
    "    outSheet.write(item+1,0,pessoas[0][item]+' '+times[0][item])\n",
    "  \n",
    "outWorkbook.close()\n"
   ]
  },
  {
   "cell_type": "code",
   "execution_count": null,
   "metadata": {},
   "outputs": [],
   "source": []
  },
  {
   "cell_type": "code",
   "execution_count": null,
   "metadata": {},
   "outputs": [],
   "source": []
  },
  {
   "cell_type": "code",
   "execution_count": null,
   "metadata": {},
   "outputs": [],
   "source": []
  }
 ],
 "metadata": {
  "kernelspec": {
   "display_name": "Python 3",
   "language": "python",
   "name": "python3"
  },
  "language_info": {
   "codemirror_mode": {
    "name": "ipython",
    "version": 3
   },
   "file_extension": ".py",
   "mimetype": "text/x-python",
   "name": "python",
   "nbconvert_exporter": "python",
   "pygments_lexer": "ipython3",
   "version": "3.8.5"
  }
 },
 "nbformat": 4,
 "nbformat_minor": 4
}
