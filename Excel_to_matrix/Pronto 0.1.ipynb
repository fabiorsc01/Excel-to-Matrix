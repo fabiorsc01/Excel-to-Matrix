{
 "cells": [
  {
   "cell_type": "code",
   "execution_count": 18,
   "metadata": {},
   "outputs": [
    {
     "name": "stdout",
     "output_type": "stream",
     "text": [
      "['1 |* Abrir a tampa da bomba de rolete, com a bomba parada. |* Não é possível partir a bomba. Mensagem do alarme deve aparecer no display.\\n', '|#2 |* Abrir a tampa da bomba de rolete, com a bomba funcionando. |* A bomba deve ser desativada. Mensagem do alarme deve aparecer no display.\\n', '|#3 |* Verificar sinalização sonora. |* O burst sonoro deve soar a cada 20 segundos. \\n', '|#4 |* Verificar sinalização visual. |* O LED deve piscar na cor azul.\\n', '|#5 |* Silenciar Alarme.  |* O alarme sonoro deve cessar e ser retomado após 2 minutos.\\n', '  \\n']\n",
      "['1 |* Ligar circuito de aquecimento (bomba + resistência) com o nível de água abaixo do mínimo seguro. |* Não é possível ligar o circuito de aquecimento (bomba + resistência). Mensagem do alarme deve aparecer no display.\\n', '|#2 |* Verificar sinalização sonora. |* O burst sonoro deve soar a cada 1 minuto. \\n', '|#3 |* Verificar sinalização visual. |* O LED deve piscar na cor azul.\\n', '|#4 |* Reconhecer (ACK) Alarme.  |* O alarme deve ser reconhecido, todas as sinalizações devem cessar\\n']\n",
      "['1 |* Ligar equipamento. |* O equipamento deve ligar e mostrar a falha de auto teste.\\n', '|#2 |* Pressionar \"Continuar mesmo assim\" na tela de auto teste. |* O equipamento iniciar o boot, após isso, a mensagem do alarme deve aparecer no display\\n', '|#3 |* Após o boot completo verificar sinalização sonora. |* O burst sonoro deve soar a cada 20 segundos (através do buzzer).\\n', '|#4 |* Verificar sinalização visual. |* O LED deve piscar na cor amarela.\\n', '|#5 |* Silenciar Alarme.   |* Não haverá silenciamento pois o a memória com o som falhou. Alarme permanece ativo.\\n']\n"
     ]
    }
   ],
   "source": [
    "import pandas as pd\n",
    "import xlsxwriter\n",
    "\n",
    "outWorkbook = xlsxwriter.Workbook(\"Resultado.xlsx\")\n",
    "outSheet = outWorkbook.add_worksheet()\n",
    "\n",
    "#ler os dados colocar os dados em uma lista\n",
    "dados = pd.read_excel('Teste1.xlsx')\n",
    "dados.dropna(inplace= True)\n",
    "\n",
    "etapas = dados['Etapas'].str.split(\"\\n\", expand = False)\n",
    "resultados = dados['Resultados'].str.split(\"\\n\", expand = False)\n",
    "\n",
    "lista_dados= []\n",
    "outSheet.write('F1', 'Passos')\n",
    "for i in range(len(etapas)):\n",
    "    for etapa, result in zip(etapas[i], resultados[i]):\n",
    "        lista_dados.append(etapa + ' ' + result +'\\n')\n",
    "    b = ''.join(lista_dados)\n",
    "    outSheet.write(i+1,5,b) \n",
    "    print(lista_dados)\n",
    "    lista_dados=[]\n",
    "    \n",
    "outSheet.write(0,0,'Ref')\n",
    "outSheet.write(0,1,'Folder')\n",
    "outSheet.write(0,2,'Title')\n",
    "outSheet.write(0,3,'Descrição')\n",
    "outSheet.write(0,4,'Condição inicial')\n",
    "outSheet.write(0,6,'Comentários')                 \n",
    "                   \n",
    "outWorkbook.close()"
   ]
  },
  {
   "cell_type": "code",
   "execution_count": null,
   "metadata": {},
   "outputs": [],
   "source": []
  },
  {
   "cell_type": "code",
   "execution_count": null,
   "metadata": {},
   "outputs": [],
   "source": []
  },
  {
   "cell_type": "code",
   "execution_count": null,
   "metadata": {},
   "outputs": [],
   "source": []
  }
 ],
 "metadata": {
  "kernelspec": {
   "display_name": "Python 3",
   "language": "python",
   "name": "python3"
  },
  "language_info": {
   "codemirror_mode": {
    "name": "ipython",
    "version": 3
   },
   "file_extension": ".py",
   "mimetype": "text/x-python",
   "name": "python",
   "nbconvert_exporter": "python",
   "pygments_lexer": "ipython3",
   "version": "3.8.5"
  }
 },
 "nbformat": 4,
 "nbformat_minor": 4
}
